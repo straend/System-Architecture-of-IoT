{
 "cells": [
  {
   "cell_type": "code",
   "execution_count": 42,
   "metadata": {},
   "outputs": [
    {
     "name": "stdout",
     "output_type": "stream",
     "text": [
      "Populating the interactive namespace from numpy and matplotlib\n"
     ]
    }
   ],
   "source": [
    "import pandas as pd\n",
    "import numpy as np\n",
    "import math\n",
    "from collections import OrderedDict\n",
    "\n",
    "%pylab inline\n",
    "matplotlib.style.use('ggplot')\n",
    "# fk_dvfs.py available \n",
    "# https://github.com/straend/System-Architecture-of-IoT/blob/master/fk_dvfs.py\n",
    "%run fk_dvfs"
   ]
  },
  {
   "cell_type": "raw",
   "metadata": {},
   "source": [
    "\\author{Tomas Strand, \\#40159}\n",
    "\\title{IoTA-18 Assignment 2}\n",
    "\\def\\myauthor{Tomas Strand, \\#40159} % Author\n",
    "\\def\\mycoauthor{} % co-author\n",
    "\\def\\mytitle{IoTA-18 Assignment 2} % title\n",
    "\\def\\mydate{Date} % date"
   ]
  },
  {
   "cell_type": "code",
   "execution_count": 2,
   "metadata": {},
   "outputs": [],
   "source": [
    "tasks = {\n",
    "    'a': {'p': 4, 'Vmax': 3.3, 'Vtresh': 0.8, 'time': 0.004, 'cpu': 'PE1'},\n",
    "    'b': {'p': 5, 'Vmax': 3.3, 'Vtresh': 0.8, 'time': 0.003, 'cpu': 'PE1'},\n",
    "    'c': {'p': 3, 'Vmax': 2.8, 'Vtresh': 0.6, 'time': 0.007, 'cpu': 'PE2'},\n",
    "    'd': {'p': 3, 'Vmax': 3.3, 'Vtresh': 0.8, 'time': 0.006, 'cpu': 'PE1'},\n",
    "}\n",
    "sorted_tasks = OrderedDict(sorted(tasks.items(), key=lambda t: t[0]))"
   ]
  },
  {
   "cell_type": "markdown",
   "metadata": {},
   "source": [
    "# 1) Schedule - 1\n",
    "Made with Excel 2016, not so much to explain about this.\n",
    "![Schedule 1](C:\\Users\\tomas\\OneDrive\\note18\\IoT18\\Assignment2\\schedule1.png)\n",
    "\n",
    "PE1 chosen for task A for the shorter execution time\n",
    "  \n",
    "PE1 chosen for task B because of lower power usage\n",
    "  \n",
    "PE2 chosen for task C because of lower power usage\n",
    "  \n",
    "PE1 chosen for task D for shorter execution time"
   ]
  },
  {
   "cell_type": "markdown",
   "metadata": {},
   "source": [
    "# 2) Power dissipation, energy consumption\n",
    "If we assume we consume no power when no task is executed we can calculate the following\n"
   ]
  },
  {
   "cell_type": "code",
   "execution_count": 3,
   "metadata": {},
   "outputs": [
    {
     "name": "stdout",
     "output_type": "stream",
     "text": [
      "Total energy consumption: \t70.00 mJ\n",
      "Average power: \t\t\t3.33 W\n"
     ]
    }
   ],
   "source": [
    "# first create an array of energy consumption per task\n",
    "# then sum all elements in the array\n",
    "total_e = sum([tasks[t]['p']*tasks[t]['time'] for t in tasks])\n",
    "\n",
    "# calculate average power by dividing energy consumed by the time (deadline)\n",
    "average_P = total_e / 0.021\n",
    "\n",
    "print(\"Total energy consumption: \\t%.2f mJ\"%(total_e*1000))\n",
    "print(\"Average power: \\t\\t\\t%.2f W\"%(average_P))\n"
   ]
  },
  {
   "cell_type": "markdown",
   "metadata": {},
   "source": [
    "# 3) DVFS Same for all\n",
    "First we calculate an e factor, then we calculate new Vdd's, times and energy consumption for every task."
   ]
  },
  {
   "cell_type": "code",
   "execution_count": 4,
   "metadata": {},
   "outputs": [
    {
     "name": "stdout",
     "output_type": "stream",
     "text": [
      "Total energy consumption: \t54.31 mJ\n",
      "Average power: \t\t\t2.59 W\n",
      "New Timings\n"
     ]
    },
    {
     "data": {
      "text/html": [
       "<div>\n",
       "<style>\n",
       "    .dataframe thead tr:only-child th {\n",
       "        text-align: right;\n",
       "    }\n",
       "\n",
       "    .dataframe thead th {\n",
       "        text-align: left;\n",
       "    }\n",
       "\n",
       "    .dataframe tbody tr th {\n",
       "        vertical-align: top;\n",
       "    }\n",
       "</style>\n",
       "<table border=\"1\" class=\"dataframe\">\n",
       "  <thead>\n",
       "    <tr style=\"text-align: right;\">\n",
       "      <th></th>\n",
       "      <th>time (ms)</th>\n",
       "    </tr>\n",
       "  </thead>\n",
       "  <tbody>\n",
       "    <tr>\n",
       "      <th>a</th>\n",
       "      <td>4.941176</td>\n",
       "    </tr>\n",
       "    <tr>\n",
       "      <th>b</th>\n",
       "      <td>3.705882</td>\n",
       "    </tr>\n",
       "    <tr>\n",
       "      <th>c</th>\n",
       "      <td>8.647059</td>\n",
       "    </tr>\n",
       "    <tr>\n",
       "      <th>d</th>\n",
       "      <td>7.411765</td>\n",
       "    </tr>\n",
       "  </tbody>\n",
       "</table>\n",
       "</div>"
      ],
      "text/plain": [
       "   time (ms)\n",
       "a   4.941176\n",
       "b   3.705882\n",
       "c   8.647059\n",
       "d   7.411765"
      ]
     },
     "execution_count": 4,
     "metadata": {},
     "output_type": "execute_result"
    }
   ],
   "source": [
    "# Calculate how much time the longest path takes, A -> C -> D\n",
    "times_for_longest_path = [tasks[t]['time'] for t in ['a','c','d']]\n",
    "\n",
    "# Deadline of 21 ms\n",
    "deadline = 0.021\n",
    "\n",
    "# Get the e factor\n",
    "eF_for_all = fk_eFactor(times=times_for_longest_path, slack=deadline - sum(times_for_longest_path))\n",
    "\n",
    "# Calculate new V0 and Vdd for both PEs\n",
    "PE1_V0 = fk_V0(3.3, 0.8)\n",
    "PE1_VDD = fk_Vdd(Vt = 0.8, Vmax=3.3, eFactor=eF_for_all, V0=PE1_V0)\n",
    "\n",
    "PE2_V0 = fk_V0(2.8, 0.6)\n",
    "PE2_VDD = fk_Vdd(Vt = 0.6, Vmax=2.8, eFactor=eF_for_all, V0=PE2_V0)\n",
    "\n",
    "# loop over tasks and calculate new timing and Power dissipation for all\n",
    "same_scaling = {}\n",
    "for k in sorted_tasks:\n",
    "    t=tasks[k]\n",
    "    if t['cpu'] == 'PE1':\n",
    "        vdd = PE1_VDD\n",
    "    else:\n",
    "        vdd = PE2_VDD\n",
    "    newP = fk_PVdd(oldP=t['p'], eFactor=eF_for_all, oldV=t['Vmax'], newV=vdd)\n",
    "    nt = {\n",
    "        'time': t['time']*eF_for_all,\n",
    "        'Vdd': vdd,\n",
    "        'p': newP\n",
    "    }\n",
    "    same_scaling[k]=nt\n",
    "    #c['time'] *= eF_for_all\n",
    "\n",
    "# We use the same calculations as in the first part\n",
    "total_e_scaled = sum([same_scaling[t]['p']*same_scaling[t]['time'] for t in same_scaling])\n",
    "average_P_scaled = total_e_scaled / 0.021\n",
    "print(\"Total energy consumption: \\t%.2f mJ\"%(total_e_scaled*1000))\n",
    "print(\"Average power: \\t\\t\\t%.2f W\"%(average_P_scaled))\n",
    "print(\"New Timings\")\n",
    "\n",
    "pd.DataFrame.from_items(\n",
    "    [(t, [same_scaling[t]['time']*1000]) for t in sorted_tasks],\n",
    "    orient='index', \n",
    "    columns=['time (ms)',]\n",
    ")"
   ]
  },
  {
   "cell_type": "markdown",
   "metadata": {},
   "source": [
    "![Schedule 3](C:\\Users\\tomas\\OneDrive\\note18\\IoT18\\Assignment2\\schedule3.png)"
   ]
  },
  {
   "cell_type": "markdown",
   "metadata": {},
   "source": [
    "A further improvment could be to lower the Voltage for PE1 when task B is executing to take the same time as task C\n",
    "\n",
    "# 4) Static power dissipation"
   ]
  },
  {
   "cell_type": "code",
   "execution_count": 10,
   "metadata": {},
   "outputs": [
    {
     "name": "stdout",
     "output_type": "stream",
     "text": [
      "At static power over **3.18 W** it makes sense to use power gating\n"
     ]
    }
   ],
   "source": [
    "# Calculating for both PE's \n",
    "# create an array with values lineary distributed between 0 and 5 (Watt)(static power)\n",
    "x = np.linspace(0,5, 100000)\n",
    "\n",
    "# calculate power for different static powers(x)\n",
    "# dvfs will contain a number of values for power consumption with DVFS\n",
    "pe2_usage = 0\n",
    "\n",
    "for y in tasks:\n",
    "    o= tasks[y]\n",
    "    e = o['p'] * o['time']\n",
    "    \n",
    "    \n",
    "pe1_runtime = 4.94+3.71+7.41\n",
    "dvfs = x * (25.8*x + 48.93+ 16.4*0.25)\n",
    "gating = x * (20*x + 66 + 22*0.25)\n",
    "\n",
    "# create the difference\n",
    "diff = gating-dvfs\n",
    "# find the point where the two lines crosses\n",
    "for i in range(0, len(diff)):\n",
    "    if diff[i]<0:\n",
    "        print(\"At static power over **%.2f W** it makes sense to use power gating\"%x[i])\n",
    "        break"
   ]
  },
  {
   "cell_type": "code",
   "execution_count": 38,
   "metadata": {},
   "outputs": [
    {
     "name": "stdout",
     "output_type": "stream",
     "text": [
      "PE1 Power Gating is prefered when static usage is more than 0.04W\n",
      "PE2 Power Gating is prefered when static usage is more than 0.04W\n"
     ]
    }
   ],
   "source": [
    "# Calculating for both PE's \n",
    "# create an array with values lineary distributed between 0 and 5 (Watt)(static power)\n",
    "x = np.linspace(0,5, 100000)\n",
    "\n",
    "# calculate power for different static powers(x)\n",
    "\n",
    "totaltime = (4+3+4+6+4)/1000\n",
    "totaltime_dvfs = (4.94+3.71+4.94+7.41)/1000\n",
    "\n",
    "pe1_tasks = [tasks[x] for x in tasks if tasks[x]['cpu'] == 'PE1']\n",
    "pe2_tasks = [tasks[x] for x in tasks if tasks[x]['cpu'] == 'PE2']\n",
    "\n",
    "# Usages for DVFS\n",
    "pe1_active = sum([x['time'] for x in pe1_tasks])\n",
    "pe1_usage = sum([x['time']*x['p'] for x in pe1_tasks])\n",
    "pe1_static_usage = (totaltime-pe1_active) * x\n",
    "pe1_total = pe1_static_usage+pe1_usage\n",
    "\n",
    "pe2_active = sum([x['time'] for x in pe2_tasks])\n",
    "pe2_usage = sum([x['time']*x['p'] for x in pe2_tasks])\n",
    "pe2_static_usage = (totaltime-pe2_active) * x\n",
    "pe2_total = pe2_static_usage+pe2_usage\n",
    "\n",
    "\n",
    "# Usage for Sleeping\n",
    "sleep_dissipate = 0.25\n",
    "\n",
    "pe1_sleep = (totaltime-pe1_active) * sleep_dissipate\n",
    "pe2_sleep = (totaltime-pe2_active) * sleep_dissipate\n",
    "\n",
    "# Loop over values and show result\n",
    "for i in range(len(pe1_static_usage)-1, -len(pe1_static_usage), -1):\n",
    "    if pe1_static_usage[i] > pe1_sleep:\n",
    "        print(\"PE1 Power Gating is prefered when static usage is more than {}W\".format(pe1_static_usage[i]))\n",
    "        break\n",
    "for i in range(len(pe2_static_usage)-1, -len(pe2_static_usage), -1):\n",
    "    if pe2_static_usage[i] > pe2_sleep:\n",
    "        print(\"PE2 Power Gating is prefered when static usage is more than {}W\".format(pe1_static_usage[i]))\n",
    "        break\n"
   ]
  }
 ],
 "metadata": {
  "kernelspec": {
   "display_name": "Python 3",
   "language": "python",
   "name": "python3"
  },
  "language_info": {
   "codemirror_mode": {
    "name": "ipython",
    "version": 3
   },
   "file_extension": ".py",
   "mimetype": "text/x-python",
   "name": "python",
   "nbconvert_exporter": "python",
   "pygments_lexer": "ipython3",
   "version": "3.6.3"
  }
 },
 "nbformat": 4,
 "nbformat_minor": 2
}
